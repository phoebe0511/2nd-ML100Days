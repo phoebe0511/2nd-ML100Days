{
 "cells": [
  {
   "cell_type": "markdown",
   "metadata": {},
   "source": [
    "## 作業1：請上 Kaggle, 在 Competitions 或 Dataset 中找一組競賽或資料並寫下：\n",
    "探討題目：https://www.kaggle.com/ronitf/heart-disease-uci\n",
    " \n",
    "### 1. 你選的這組資料為何重要\n",
    "探討心臟病潛在發病因子，以協助病理上的判斷\n",
    "### 2. 資料從何而來 (tips: 譬如提供者是誰、以什麼方式蒐集)\n",
    "以下機構醫療研究實例\n",
    "- 克利夫蘭診所基金會（cleveland.data）\n",
    "- 布達佩斯匈牙利心臟病研究所（匈牙利語.data）\n",
    "- 加利福尼亞州長灘VA醫療中心（long-beach-va.data）\n",
    "- 瑞士蘇黎世大學醫院（switzerland.data）\n",
    " \n",
    "### 3. 蒐集而來的資料型態為何\n",
    "分類問題、數值、使用14類別屬性、共303實例\n",
    "屬性信息： \n",
    "1. age年齡(數值)\n",
    "2. sex性別(0,1共2類) （1 =男性; 0 =女性）\n",
    "3. cp胸痛型（0,1,2,3 共4類) \n",
    "    - 值1：典型心絞痛\n",
    "    - 值2：非典型心絞痛 \n",
    "    - 值3：非心絞痛 、4：無症狀 ）\n",
    "4. trestbps靜息血壓(數值)\n",
    "5. chol血清膽固醇mg / dl (數值)\n",
    "6. fbs空腹血糖> 120 mg / dl (0,1共2類)\n",
    "7.  restecg靜息心電圖結果（0,1,2共3類）（0：正常、1：有ST-T波異常（T波反轉和/或ST抬高或抑鬱> 0.05 mV）、2：根據Estes標準顯示可能或確定的左心室肥大 ）\n",
    "8. thalach達到的最大心率(數值)\n",
    "9. exang運動誘發的心絞痛(0,1共2類)\n",
    "10. oldpeak = 運動引起的ST段壓低相對於休息(數值)\n",
    "11. slope運動高峰ST段的坡度（0,1,2共3類）\n",
    "    - 值1：向上傾斜 \n",
    "    - 值2：持平 \n",
    "    - 值3 ：下降 \n",
    "12. ca通過熒光檢查著色的主要血管數量（0,1,2共3種數量）\n",
    "13. thal ：3 =正常; 6 =固定缺陷; 7 =可逆缺陷 （dataset 只有0,1,2，找不到3,6,7）\n",
    "14. target 心髒病的診斷（血管造影疾病狀態）(0,1共2類)\n",
    "       - 值0：<50％直徑變窄\n",
    "       - 值1：> 50％直徑變窄（在任何主要血管中：屬性59至68為血管）\n",
    " \n",
    "### 4. 這組資料想解決的問題如何評估\n",
    "解決問題：提供者想要透過次數據庫，從原來76分類屬性取出14分類屬性作為dataset，進而找到任何可能的趨勢預測心臟病事件或跡象。\n",
    "模型檢測評估方式：binary classification，二元分類\n"
   ]
  },
  {
   "cell_type": "markdown",
   "metadata": {},
   "source": [
    "___"
   ]
  },
  {
   "attachments": {},
   "cell_type": "markdown",
   "metadata": {},
   "source": [
    "## 作業2：想像你經營一個自由載客車隊，你希望能透過數據分析以提升業績，請你思考並描述你如何規劃整體的分析/解決方案：\n",
    "\n",
    "### 1. 核心問題為何 (tips：如何定義 「提升業績 & 你的假設」)\n",
    "### 提升營運（影響因子）：\n",
    "- 增加新乘客數：開發新區域、給予新客優惠（區域、優惠方案、價格）\n",
    "- 增加搭乘回訂率：老客人乘車優惠（優惠方案、價格）\n",
    "- 增加有效稼動：熱門時段、熱區增員派車（時間、區域有關）\n",
    "- 提供長距離優惠（優惠方案、價格）\n",
    "\n",
    "### 假設 :\n",
    "以「增加有效稼動：熱門時段、熱區增員派車（時間、區域有關）」作為此次提升業績的假設，先取得時熱門時間、區域，在這些區域投放、增援３０％的車輛數，並給予乘車優惠。\n",
    " \n",
    " \n",
    "### 2. 資料從何而來 (tips：哪些資料可能會對你想問的問題產生影響 & 資料如何蒐集)\n",
    " \n",
    "影響因子 | 蒐集方式|蒐集方式\n",
    "--------- | ---------|---------|\n",
    "區域、地點 | 車內ＧＰＳ紀錄|司機派車紀錄\n",
    "搭乘距離|根據車內計費器產出|司機派車紀錄\n",
    "搭乘時間|根據車內計費器產出|司機派車紀錄|\n",
    "人數|司機派車紀錄|\n",
    "乘客資料|會員資料|司機派車紀錄|\n",
    "\n",
    " \n",
    "### 3. 蒐集而來的資料型態為何\n",
    "\n",
    "分類|資料型態|資料型態\n",
    ":-------:|------|------|\n",
    "區域、地點|ＧＰＳ（經度）|ＧＰＳ（緯度）\n",
    "搭乘距離|（公里數）|\n",
    "搭乘時間|上車時間（時間格式）|下車時間（時間格式）\n",
    "人數|位（數量1~4）\n",
    "乘客資料|熟客、常客（０、１）|年齡（數）性別（男、女）\n",
    "\n",
    "### 4. 你要回答的問題，其如何評估 (tips：你的假設如何驗證)\n",
    " \n",
    "主要驗證叫車率：透過蒐集資料，畫出熱區、熱門時段，找出乘客相關度，在這些區域投放、增援３０％的車輛數，並給予熟客公里數的優惠。"
   ]
  },
  {
   "cell_type": "markdown",
   "metadata": {},
   "source": [
    "___"
   ]
  },
  {
   "cell_type": "markdown",
   "metadata": {},
   "source": [
    "## 作業3："
   ]
  },
  {
   "cell_type": "markdown",
   "metadata": {},
   "source": [
    "## 練習時間\n",
    "#### 請寫一個函式用來計算 Mean Square Error\n",
    "$ MSE = \\frac{1}{n}\\sum_{i=1}^{n}{(Y_i - \\hat{Y}_i)^2} $\n",
    "\n",
    "### Hint: [如何取平方](https://googoodesign.gitbooks.io/-ezpython/unit-1.html)"
   ]
  },
  {
   "cell_type": "code",
   "execution_count": 17,
   "metadata": {},
   "outputs": [],
   "source": [
    "import numpy as np\n",
    "import matplotlib.pyplot as plt"
   ]
  },
  {
   "cell_type": "code",
   "execution_count": 18,
   "metadata": {},
   "outputs": [],
   "source": [
    "def mean_squared_error(y, y_hat):\n",
    "    return sum(pow(y - y_hat, 2)) / len(y)\n",
    "\n",
    "def mean_absolute_error(y, y_hat):\n",
    "    return sum(abs(y - y_hat)) / len(y)\n"
   ]
  },
  {
   "cell_type": "code",
   "execution_count": 19,
   "metadata": {},
   "outputs": [
    {
     "data": {
      "image/png": "[encoded data removed]",
      "text/plain": [
       "<Figure size 432x288 with 1 Axes>"
      ]
     },
     "metadata": {
      "needs_background": "light"
     },
     "output_type": "display_data"
    }
   ],
   "source": [
    "w = 3\n",
    "b = 0.5\n",
    "\n",
    "x_lin = np.linspace(0, 100, 101)\n",
    "\n",
    "y = (x_lin + np.random.randn(101) * 5) * w + b\n",
    "\n",
    "plt.plot(x_lin, y, 'b.', label = 'data points')\n",
    "plt.title(\"Assume we have data points\")\n",
    "plt.legend(loc = 2)\n",
    "plt.show()"
   ]
  },
  {
   "cell_type": "code",
   "execution_count": 20,
   "metadata": {},
   "outputs": [
    {
     "data": {
      "image/png": "[encoded data removed]",
      "text/plain": [
       "<Figure size 432x288 with 1 Axes>"
      ]
     },
     "metadata": {
      "needs_background": "light"
     },
     "output_type": "display_data"
    }
   ],
   "source": [
    "y_hat = x_lin * w + b\n",
    "plt.plot(x_lin, y, 'b.', label = 'data')\n",
    "plt.plot(x_lin, y_hat, 'r-', label = 'prediction')\n",
    "plt.title(\"Assume we have data points (And the prediction)\")\n",
    "plt.legend(loc = 2)\n",
    "plt.show()"
   ]
  },
  {
   "cell_type": "code",
   "execution_count": 21,
   "metadata": {},
   "outputs": [
    {
     "name": "stdout",
     "output_type": "stream",
     "text": [
      "The Mean squared error is 244.635\n",
      "The Mean absolute error is 12.240\n"
     ]
    }
   ],
   "source": [
    "# 執行 Function, 確認有沒有正常執行\n",
    "MSE = mean_squared_error(y, y_hat)\n",
    "MAE = mean_absolute_error(y, y_hat)\n",
    "print(\"The Mean squared error is %.3f\" % (MSE))\n",
    "print(\"The Mean absolute error is %.3f\" % (MAE))"
   ]
  },
  {
   "cell_type": "code",
   "execution_count": null,
   "metadata": {},
   "outputs": [],
   "source": []
  }
 ],
 "metadata": {
  "anaconda-cloud": {},
  "kernelspec": {
   "display_name": "Python 3",
   "language": "python",
   "name": "python3"
  },
  "language_info": {
   "codemirror_mode": {
    "name": "ipython",
    "version": 3
   },
   "file_extension": ".py",
   "mimetype": "text/x-python",
   "name": "python",
   "nbconvert_exporter": "python",
   "pygments_lexer": "ipython3",
   "version": "3.7.3"
  }
 },
 "nbformat": 4,
 "nbformat_minor": 1
}
